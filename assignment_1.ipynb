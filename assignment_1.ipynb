{
  "nbformat": 4,
  "nbformat_minor": 0,
  "metadata": {
    "colab": {
      "name": "assignment 1",
      "provenance": [],
      "mount_file_id": "1MgP7fQwoPSsKQsZZMgSG1tTlqoHtbxjW",
      "authorship_tag": "ABX9TyN6XwE78tpdfZFvf2nGbSx5",
      "include_colab_link": true
    },
    "kernelspec": {
      "name": "python3",
      "display_name": "Python 3"
    },
    "language_info": {
      "name": "python"
    }
  },
  "cells": [
    {
      "cell_type": "markdown",
      "metadata": {
        "id": "view-in-github",
        "colab_type": "text"
      },
      "source": [
        "<a href=\"https://colab.research.google.com/github/keerthana2610/Intro-to-ML-Project/blob/main/assignment_1.ipynb\" target=\"_parent\"><img src=\"https://colab.research.google.com/assets/colab-badge.svg\" alt=\"Open In Colab\"/></a>"
      ]
    },
    {
      "cell_type": "code",
      "metadata": {
        "colab": {
          "base_uri": "https://localhost:8080/"
        },
        "id": "6BaR7HMDnRld",
        "outputId": "3517842f-68b6-472c-d469-368e09bcc062"
      },
      "source": [
        "#mounting the given data file\n",
        "from google.colab import drive\n",
        "drive.mount('/content/drive')\n",
        "%cd /content/drive/My Drive"
      ],
      "execution_count": null,
      "outputs": [
        {
          "output_type": "stream",
          "text": [
            "Drive already mounted at /content/drive; to attempt to forcibly remount, call drive.mount(\"/content/drive\", force_remount=True).\n",
            "/content/drive/My Drive\n"
          ],
          "name": "stdout"
        }
      ]
    },
    {
      "cell_type": "markdown",
      "metadata": {
        "id": "1Ngn7B-o4GYb"
      },
      "source": [
        "Importing Libraries"
      ]
    },
    {
      "cell_type": "code",
      "metadata": {
        "id": "7V1_CXn_i3EX"
      },
      "source": [
        "import pandas as pd\n",
        "import numpy as np\n",
        "import matplotlib.pyplot as plt"
      ],
      "execution_count": null,
      "outputs": []
    },
    {
      "cell_type": "markdown",
      "metadata": {
        "id": "HDdOozYV4Uok"
      },
      "source": [
        "Reading Data"
      ]
    },
    {
      "cell_type": "code",
      "metadata": {
        "id": "MNyzC7O1nfh4"
      },
      "source": [
        "#creating dataframe\n",
        "df = pd.read_csv(\"data.csv\")"
      ],
      "execution_count": null,
      "outputs": []
    },
    {
      "cell_type": "code",
      "metadata": {
        "colab": {
          "base_uri": "https://localhost:8080/",
          "height": 1000
        },
        "id": "fZHEPq4MjLKk",
        "outputId": "087a5eb2-f194-492a-f2bc-a14ffa20bae5"
      },
      "source": [
        "df.head(5)"
      ],
      "execution_count": null,
      "outputs": [
        {
          "output_type": "execute_result",
          "data": {
            "text/html": [
              "<div>\n",
              "<style scoped>\n",
              "    .dataframe tbody tr th:only-of-type {\n",
              "        vertical-align: middle;\n",
              "    }\n",
              "\n",
              "    .dataframe tbody tr th {\n",
              "        vertical-align: top;\n",
              "    }\n",
              "\n",
              "    .dataframe thead th {\n",
              "        text-align: right;\n",
              "    }\n",
              "</style>\n",
              "<table border=\"1\" class=\"dataframe\">\n",
              "  <thead>\n",
              "    <tr style=\"text-align: right;\">\n",
              "      <th></th>\n",
              "      <th>City</th>\n",
              "      <th>Title</th>\n",
              "      <th>Text</th>\n",
              "      <th>Murder Happened with reason:\\n1:Property/Land Disputes,\\n2:Family Dispute\\n3:Petty Quarrels,\\n4:Money Disputes, \\n5:Personal Vendetta, \\n6:Love Affairs, \\n7:Casteism\\n8: Unknown/other</th>\n",
              "      <th>Number of child victims</th>\n",
              "      <th>Number of male victims(adult)</th>\n",
              "      <th>Number of female victims(adult)</th>\n",
              "      <th>Kidnnaping:\\nNumber of child victims</th>\n",
              "      <th>Number of male(adult)</th>\n",
              "      <th>Number of female(adult)</th>\n",
              "      <th>Crime Against Women ( Combined ):\\n1. Murder with Rape \\n2. Dowry Deaths(Sec. 3048)\\n3. Suicide(sec 305/306)\\n4. Kidnapping(All)\\n5. Acid Attack(Sec. 326A IPC)\\n6. Cruelty by Husband/in-laws((Sec.498 A IPC)\\n7. Rape only(Sec. 376 or 511 IPC)\\n8. Assault on Women with Intent to Outrage her Modesty (Sec. 354 IPC)\\n9. Cyber Crimes against Women\\n10. Protection of Children from Sexual Offences Act</th>\n",
              "      <th>Number of adult victims</th>\n",
              "      <th>Number of childs invoved</th>\n",
              "    </tr>\n",
              "  </thead>\n",
              "  <tbody>\n",
              "    <tr>\n",
              "      <th>0</th>\n",
              "      <td>Ghaziabad</td>\n",
              "      <td>Minor molests mute girl, sent to observation home</td>\n",
              "      <td>GHAZIABAD: A 12-year-old boy was sent to an ob...</td>\n",
              "      <td>NaN</td>\n",
              "      <td>NaN</td>\n",
              "      <td>NaN</td>\n",
              "      <td>NaN</td>\n",
              "      <td>NaN</td>\n",
              "      <td>NaN</td>\n",
              "      <td>NaN</td>\n",
              "      <td>8,10</td>\n",
              "      <td>NaN</td>\n",
              "      <td>3.0</td>\n",
              "    </tr>\n",
              "    <tr>\n",
              "      <th>1</th>\n",
              "      <td>Ghaziabad</td>\n",
              "      <td>Family out to buy car robbed of Rs 1 lakh by b...</td>\n",
              "      <td>GHAZIABAD: A family that had visited an automo...</td>\n",
              "      <td>NaN</td>\n",
              "      <td>NaN</td>\n",
              "      <td>NaN</td>\n",
              "      <td>NaN</td>\n",
              "      <td>NaN</td>\n",
              "      <td>NaN</td>\n",
              "      <td>NaN</td>\n",
              "      <td>NaN</td>\n",
              "      <td>NaN</td>\n",
              "      <td>NaN</td>\n",
              "    </tr>\n",
              "    <tr>\n",
              "      <th>2</th>\n",
              "      <td>Ghaziabad</td>\n",
              "      <td>This gang posed as cops to extort youths, couples</td>\n",
              "      <td>GHAZIABAD: Five persons were arrested on Monda...</td>\n",
              "      <td>NaN</td>\n",
              "      <td>NaN</td>\n",
              "      <td>NaN</td>\n",
              "      <td>NaN</td>\n",
              "      <td>NaN</td>\n",
              "      <td>NaN</td>\n",
              "      <td>NaN</td>\n",
              "      <td>NaN</td>\n",
              "      <td>NaN</td>\n",
              "      <td>NaN</td>\n",
              "    </tr>\n",
              "    <tr>\n",
              "      <th>3</th>\n",
              "      <td>Ghaziabad</td>\n",
              "      <td>Residents object to loud music, thrashed in Gh...</td>\n",
              "      <td>Ghaziabad: Four tenants, including two soldier...</td>\n",
              "      <td>NaN</td>\n",
              "      <td>NaN</td>\n",
              "      <td>NaN</td>\n",
              "      <td>NaN</td>\n",
              "      <td>NaN</td>\n",
              "      <td>NaN</td>\n",
              "      <td>NaN</td>\n",
              "      <td>NaN</td>\n",
              "      <td>NaN</td>\n",
              "      <td>NaN</td>\n",
              "    </tr>\n",
              "    <tr>\n",
              "      <th>4</th>\n",
              "      <td>Ghaziabad</td>\n",
              "      <td>Man kills self after being refused money for d...</td>\n",
              "      <td>GHAZIABAD: A 25-year-old allegedly committed s...</td>\n",
              "      <td>NaN</td>\n",
              "      <td>NaN</td>\n",
              "      <td>NaN</td>\n",
              "      <td>NaN</td>\n",
              "      <td>NaN</td>\n",
              "      <td>NaN</td>\n",
              "      <td>NaN</td>\n",
              "      <td>NaN</td>\n",
              "      <td>NaN</td>\n",
              "      <td>NaN</td>\n",
              "    </tr>\n",
              "  </tbody>\n",
              "</table>\n",
              "</div>"
            ],
            "text/plain": [
              "       City   ... Number of childs invoved\n",
              "0  Ghaziabad  ...                      3.0\n",
              "1  Ghaziabad  ...                      NaN\n",
              "2  Ghaziabad  ...                      NaN\n",
              "3  Ghaziabad  ...                      NaN\n",
              "4  Ghaziabad  ...                      NaN\n",
              "\n",
              "[5 rows x 13 columns]"
            ]
          },
          "metadata": {
            "tags": []
          },
          "execution_count": 85
        }
      ]
    },
    {
      "cell_type": "markdown",
      "metadata": {
        "id": "Nw9-Q-DX4dCR"
      },
      "source": [
        "# Pre-processing Dataset"
      ]
    },
    {
      "cell_type": "code",
      "metadata": {
        "id": "pCmO50l1Dj4T"
      },
      "source": [
        "#dropping the columns that are of no use \n",
        "df=df.drop([\"Title\"],axis=1)\n",
        "df=df.drop([\"Text\"],axis=1)"
      ],
      "execution_count": null,
      "outputs": []
    },
    {
      "cell_type": "code",
      "metadata": {
        "colab": {
          "base_uri": "https://localhost:8080/",
          "height": 659
        },
        "id": "AZvsmK0JETxw",
        "outputId": "d4e38d50-28d6-418b-f2ed-3da6724923c2"
      },
      "source": [
        "df.head()"
      ],
      "execution_count": null,
      "outputs": [
        {
          "output_type": "execute_result",
          "data": {
            "text/html": [
              "<div>\n",
              "<style scoped>\n",
              "    .dataframe tbody tr th:only-of-type {\n",
              "        vertical-align: middle;\n",
              "    }\n",
              "\n",
              "    .dataframe tbody tr th {\n",
              "        vertical-align: top;\n",
              "    }\n",
              "\n",
              "    .dataframe thead th {\n",
              "        text-align: right;\n",
              "    }\n",
              "</style>\n",
              "<table border=\"1\" class=\"dataframe\">\n",
              "  <thead>\n",
              "    <tr style=\"text-align: right;\">\n",
              "      <th></th>\n",
              "      <th>City</th>\n",
              "      <th>Murder Happened with reason:\\n1:Property/Land Disputes,\\n2:Family Dispute\\n3:Petty Quarrels,\\n4:Money Disputes, \\n5:Personal Vendetta, \\n6:Love Affairs, \\n7:Casteism\\n8: Unknown/other</th>\n",
              "      <th>Number of child victims</th>\n",
              "      <th>Number of male victims(adult)</th>\n",
              "      <th>Number of female victims(adult)</th>\n",
              "      <th>Kidnnaping:\\nNumber of child victims</th>\n",
              "      <th>Number of male(adult)</th>\n",
              "      <th>Number of female(adult)</th>\n",
              "      <th>Crime Against Women ( Combined ):\\n1. Murder with Rape \\n2. Dowry Deaths(Sec. 3048)\\n3. Suicide(sec 305/306)\\n4. Kidnapping(All)\\n5. Acid Attack(Sec. 326A IPC)\\n6. Cruelty by Husband/in-laws((Sec.498 A IPC)\\n7. Rape only(Sec. 376 or 511 IPC)\\n8. Assault on Women with Intent to Outrage her Modesty (Sec. 354 IPC)\\n9. Cyber Crimes against Women\\n10. Protection of Children from Sexual Offences Act</th>\n",
              "      <th>Number of adult victims</th>\n",
              "      <th>Number of childs invoved</th>\n",
              "    </tr>\n",
              "  </thead>\n",
              "  <tbody>\n",
              "    <tr>\n",
              "      <th>0</th>\n",
              "      <td>Ghaziabad</td>\n",
              "      <td>NaN</td>\n",
              "      <td>NaN</td>\n",
              "      <td>NaN</td>\n",
              "      <td>NaN</td>\n",
              "      <td>NaN</td>\n",
              "      <td>NaN</td>\n",
              "      <td>NaN</td>\n",
              "      <td>8,10</td>\n",
              "      <td>NaN</td>\n",
              "      <td>3.0</td>\n",
              "    </tr>\n",
              "    <tr>\n",
              "      <th>1</th>\n",
              "      <td>Ghaziabad</td>\n",
              "      <td>NaN</td>\n",
              "      <td>NaN</td>\n",
              "      <td>NaN</td>\n",
              "      <td>NaN</td>\n",
              "      <td>NaN</td>\n",
              "      <td>NaN</td>\n",
              "      <td>NaN</td>\n",
              "      <td>NaN</td>\n",
              "      <td>NaN</td>\n",
              "      <td>NaN</td>\n",
              "    </tr>\n",
              "    <tr>\n",
              "      <th>2</th>\n",
              "      <td>Ghaziabad</td>\n",
              "      <td>NaN</td>\n",
              "      <td>NaN</td>\n",
              "      <td>NaN</td>\n",
              "      <td>NaN</td>\n",
              "      <td>NaN</td>\n",
              "      <td>NaN</td>\n",
              "      <td>NaN</td>\n",
              "      <td>NaN</td>\n",
              "      <td>NaN</td>\n",
              "      <td>NaN</td>\n",
              "    </tr>\n",
              "    <tr>\n",
              "      <th>3</th>\n",
              "      <td>Ghaziabad</td>\n",
              "      <td>NaN</td>\n",
              "      <td>NaN</td>\n",
              "      <td>NaN</td>\n",
              "      <td>NaN</td>\n",
              "      <td>NaN</td>\n",
              "      <td>NaN</td>\n",
              "      <td>NaN</td>\n",
              "      <td>NaN</td>\n",
              "      <td>NaN</td>\n",
              "      <td>NaN</td>\n",
              "    </tr>\n",
              "    <tr>\n",
              "      <th>4</th>\n",
              "      <td>Ghaziabad</td>\n",
              "      <td>NaN</td>\n",
              "      <td>NaN</td>\n",
              "      <td>NaN</td>\n",
              "      <td>NaN</td>\n",
              "      <td>NaN</td>\n",
              "      <td>NaN</td>\n",
              "      <td>NaN</td>\n",
              "      <td>NaN</td>\n",
              "      <td>NaN</td>\n",
              "      <td>NaN</td>\n",
              "    </tr>\n",
              "  </tbody>\n",
              "</table>\n",
              "</div>"
            ],
            "text/plain": [
              "       City   ... Number of childs invoved\n",
              "0  Ghaziabad  ...                      3.0\n",
              "1  Ghaziabad  ...                      NaN\n",
              "2  Ghaziabad  ...                      NaN\n",
              "3  Ghaziabad  ...                      NaN\n",
              "4  Ghaziabad  ...                      NaN\n",
              "\n",
              "[5 rows x 11 columns]"
            ]
          },
          "metadata": {
            "tags": []
          },
          "execution_count": 87
        }
      ]
    },
    {
      "cell_type": "code",
      "metadata": {
        "id": "oMFE-dndEb_n"
      },
      "source": [
        "#filling all the null values with zero\n",
        "df=df.fillna(0)"
      ],
      "execution_count": null,
      "outputs": []
    },
    {
      "cell_type": "code",
      "metadata": {
        "colab": {
          "base_uri": "https://localhost:8080/",
          "height": 335
        },
        "id": "JPuTxXuUE43e",
        "outputId": "e08ca065-8c4a-4b6c-fcd4-80e068446196"
      },
      "source": [
        "df.describe()"
      ],
      "execution_count": null,
      "outputs": [
        {
          "output_type": "execute_result",
          "data": {
            "text/html": [
              "<div>\n",
              "<style scoped>\n",
              "    .dataframe tbody tr th:only-of-type {\n",
              "        vertical-align: middle;\n",
              "    }\n",
              "\n",
              "    .dataframe tbody tr th {\n",
              "        vertical-align: top;\n",
              "    }\n",
              "\n",
              "    .dataframe thead th {\n",
              "        text-align: right;\n",
              "    }\n",
              "</style>\n",
              "<table border=\"1\" class=\"dataframe\">\n",
              "  <thead>\n",
              "    <tr style=\"text-align: right;\">\n",
              "      <th></th>\n",
              "      <th>Number of child victims</th>\n",
              "      <th>Number of male victims(adult)</th>\n",
              "      <th>Number of female victims(adult)</th>\n",
              "      <th>Kidnnaping:\\nNumber of child victims</th>\n",
              "      <th>Number of male(adult)</th>\n",
              "      <th>Number of female(adult)</th>\n",
              "      <th>Number of adult victims</th>\n",
              "      <th>Number of childs invoved</th>\n",
              "    </tr>\n",
              "  </thead>\n",
              "  <tbody>\n",
              "    <tr>\n",
              "      <th>count</th>\n",
              "      <td>466.000000</td>\n",
              "      <td>466.000000</td>\n",
              "      <td>466.000000</td>\n",
              "      <td>466.000000</td>\n",
              "      <td>466.000000</td>\n",
              "      <td>466.000000</td>\n",
              "      <td>466.000000</td>\n",
              "      <td>466.000000</td>\n",
              "    </tr>\n",
              "    <tr>\n",
              "      <th>mean</th>\n",
              "      <td>0.040773</td>\n",
              "      <td>0.221030</td>\n",
              "      <td>0.111588</td>\n",
              "      <td>0.027897</td>\n",
              "      <td>0.021459</td>\n",
              "      <td>0.006438</td>\n",
              "      <td>0.263948</td>\n",
              "      <td>0.201717</td>\n",
              "    </tr>\n",
              "    <tr>\n",
              "      <th>std</th>\n",
              "      <td>0.271298</td>\n",
              "      <td>0.521029</td>\n",
              "      <td>0.371563</td>\n",
              "      <td>0.200201</td>\n",
              "      <td>0.184247</td>\n",
              "      <td>0.080063</td>\n",
              "      <td>0.513337</td>\n",
              "      <td>0.461504</td>\n",
              "    </tr>\n",
              "    <tr>\n",
              "      <th>min</th>\n",
              "      <td>0.000000</td>\n",
              "      <td>0.000000</td>\n",
              "      <td>0.000000</td>\n",
              "      <td>0.000000</td>\n",
              "      <td>0.000000</td>\n",
              "      <td>0.000000</td>\n",
              "      <td>0.000000</td>\n",
              "      <td>0.000000</td>\n",
              "    </tr>\n",
              "    <tr>\n",
              "      <th>25%</th>\n",
              "      <td>0.000000</td>\n",
              "      <td>0.000000</td>\n",
              "      <td>0.000000</td>\n",
              "      <td>0.000000</td>\n",
              "      <td>0.000000</td>\n",
              "      <td>0.000000</td>\n",
              "      <td>0.000000</td>\n",
              "      <td>0.000000</td>\n",
              "    </tr>\n",
              "    <tr>\n",
              "      <th>50%</th>\n",
              "      <td>0.000000</td>\n",
              "      <td>0.000000</td>\n",
              "      <td>0.000000</td>\n",
              "      <td>0.000000</td>\n",
              "      <td>0.000000</td>\n",
              "      <td>0.000000</td>\n",
              "      <td>0.000000</td>\n",
              "      <td>0.000000</td>\n",
              "    </tr>\n",
              "    <tr>\n",
              "      <th>75%</th>\n",
              "      <td>0.000000</td>\n",
              "      <td>0.000000</td>\n",
              "      <td>0.000000</td>\n",
              "      <td>0.000000</td>\n",
              "      <td>0.000000</td>\n",
              "      <td>0.000000</td>\n",
              "      <td>0.000000</td>\n",
              "      <td>0.000000</td>\n",
              "    </tr>\n",
              "    <tr>\n",
              "      <th>max</th>\n",
              "      <td>3.000000</td>\n",
              "      <td>7.000000</td>\n",
              "      <td>4.000000</td>\n",
              "      <td>3.000000</td>\n",
              "      <td>3.000000</td>\n",
              "      <td>1.000000</td>\n",
              "      <td>5.000000</td>\n",
              "      <td>3.000000</td>\n",
              "    </tr>\n",
              "  </tbody>\n",
              "</table>\n",
              "</div>"
            ],
            "text/plain": [
              "       Number of child victims  ...  Number of childs invoved\n",
              "count               466.000000  ...                466.000000\n",
              "mean                  0.040773  ...                  0.201717\n",
              "std                   0.271298  ...                  0.461504\n",
              "min                   0.000000  ...                  0.000000\n",
              "25%                   0.000000  ...                  0.000000\n",
              "50%                   0.000000  ...                  0.000000\n",
              "75%                   0.000000  ...                  0.000000\n",
              "max                   3.000000  ...                  3.000000\n",
              "\n",
              "[8 rows x 8 columns]"
            ]
          },
          "metadata": {
            "tags": []
          },
          "execution_count": 89
        }
      ]
    },
    {
      "cell_type": "code",
      "metadata": {
        "id": "YBNeJQx_E8o6"
      },
      "source": [
        "#changing the column headers for convenience\n",
        "df.columns=[\"a\",\"b\",\"c\",\"d\",\"e\",\"f\",\"g\",\"h\",\"i\",\"j\",\"k\"]"
      ],
      "execution_count": null,
      "outputs": []
    },
    {
      "cell_type": "code",
      "metadata": {
        "colab": {
          "base_uri": "https://localhost:8080/"
        },
        "id": "nwYz5ZjFGzHp",
        "outputId": "3466071f-229f-4552-b714-34a1cfe9f43c"
      },
      "source": [
        "print(df.info())"
      ],
      "execution_count": null,
      "outputs": [
        {
          "output_type": "stream",
          "text": [
            "<class 'pandas.core.frame.DataFrame'>\n",
            "RangeIndex: 466 entries, 0 to 465\n",
            "Data columns (total 11 columns):\n",
            " #   Column  Non-Null Count  Dtype  \n",
            "---  ------  --------------  -----  \n",
            " 0   a       466 non-null    object \n",
            " 1   b       466 non-null    object \n",
            " 2   c       466 non-null    float64\n",
            " 3   d       466 non-null    float64\n",
            " 4   e       466 non-null    float64\n",
            " 5   f       466 non-null    float64\n",
            " 6   g       466 non-null    float64\n",
            " 7   h       466 non-null    float64\n",
            " 8   i       466 non-null    object \n",
            " 9   j       466 non-null    float64\n",
            " 10  k       466 non-null    float64\n",
            "dtypes: float64(8), object(3)\n",
            "memory usage: 40.2+ KB\n",
            "None\n"
          ],
          "name": "stdout"
        }
      ]
    },
    {
      "cell_type": "markdown",
      "metadata": {
        "id": "QnIre91H6Ry8"
      },
      "source": [
        "# City-wise crime analyzation"
      ]
    },
    {
      "cell_type": "code",
      "metadata": {
        "colab": {
          "base_uri": "https://localhost:8080/"
        },
        "id": "TmZR5gpNI8VV",
        "outputId": "0df1f945-3600-4397-dfb3-16f355bb563c"
      },
      "source": [
        "#finding no.of cases in each city\n",
        "city=df['a'].value_counts()\n",
        "print(city)"
      ],
      "execution_count": null,
      "outputs": [
        {
          "output_type": "stream",
          "text": [
            "Lucknow      202\n",
            "Ghaziabad    167\n",
            "Kanpur        97\n",
            "Name: a, dtype: int64\n"
          ],
          "name": "stdout"
        }
      ]
    },
    {
      "cell_type": "code",
      "metadata": {
        "colab": {
          "base_uri": "https://localhost:8080/",
          "height": 143
        },
        "id": "11BcDO43Luw0",
        "outputId": "ec9d610b-ef03-4d4f-ab9b-7a99be97c855"
      },
      "source": [
        "#convert the data into dataframe\n",
        "city=pd.DataFrame({\"Cities\":city.index,\"No.of Cases\":city.values})\n",
        "city.head()"
      ],
      "execution_count": null,
      "outputs": [
        {
          "output_type": "execute_result",
          "data": {
            "text/html": [
              "<div>\n",
              "<style scoped>\n",
              "    .dataframe tbody tr th:only-of-type {\n",
              "        vertical-align: middle;\n",
              "    }\n",
              "\n",
              "    .dataframe tbody tr th {\n",
              "        vertical-align: top;\n",
              "    }\n",
              "\n",
              "    .dataframe thead th {\n",
              "        text-align: right;\n",
              "    }\n",
              "</style>\n",
              "<table border=\"1\" class=\"dataframe\">\n",
              "  <thead>\n",
              "    <tr style=\"text-align: right;\">\n",
              "      <th></th>\n",
              "      <th>Cities</th>\n",
              "      <th>No.of Cases</th>\n",
              "    </tr>\n",
              "  </thead>\n",
              "  <tbody>\n",
              "    <tr>\n",
              "      <th>0</th>\n",
              "      <td>Lucknow</td>\n",
              "      <td>202</td>\n",
              "    </tr>\n",
              "    <tr>\n",
              "      <th>1</th>\n",
              "      <td>Ghaziabad</td>\n",
              "      <td>167</td>\n",
              "    </tr>\n",
              "    <tr>\n",
              "      <th>2</th>\n",
              "      <td>Kanpur</td>\n",
              "      <td>97</td>\n",
              "    </tr>\n",
              "  </tbody>\n",
              "</table>\n",
              "</div>"
            ],
            "text/plain": [
              "      Cities  No.of Cases\n",
              "0    Lucknow          202\n",
              "1  Ghaziabad          167\n",
              "2     Kanpur           97"
            ]
          },
          "metadata": {
            "tags": []
          },
          "execution_count": 93
        }
      ]
    },
    {
      "cell_type": "code",
      "metadata": {
        "colab": {
          "base_uri": "https://localhost:8080/",
          "height": 279
        },
        "id": "ewYWTpl3Kyyf",
        "outputId": "f18dff8d-596c-4fa0-a340-d2ee2f8ac63f"
      },
      "source": [
        "a = city.plot.bar(x='Cities', y='No.of Cases', rot=0)"
      ],
      "execution_count": null,
      "outputs": [
        {
          "output_type": "display_data",
          "data": {
            "image/png": "[encoded data removed]",
            "text/plain": [
              "<Figure size 432x288 with 1 Axes>"
            ]
          },
          "metadata": {
            "tags": [],
            "needs_background": "light"
          }
        }
      ]
    },
    {
      "cell_type": "markdown",
      "metadata": {
        "id": "jF75FNFa8-9O"
      },
      "source": [
        "***Conclusion: Lucknow has the highest no.of cases***"
      ]
    },
    {
      "cell_type": "markdown",
      "metadata": {
        "id": "udpiV9pP9bS5"
      },
      "source": [
        "# Reasons for Murder"
      ]
    },
    {
      "cell_type": "code",
      "metadata": {
        "colab": {
          "base_uri": "https://localhost:8080/"
        },
        "id": "au9n44SOOM_W",
        "outputId": "7c96f1e4-dfcc-44d6-99b3-518dfb6b3631"
      },
      "source": [
        "#finding no.of cases for each reason for murder\n",
        "reason=df['b'].value_counts()\n",
        "print(reason)"
      ],
      "execution_count": null,
      "outputs": [
        {
          "output_type": "stream",
          "text": [
            "0                    319\n",
            "Unknown reasons       40\n",
            "Love Affairs          30\n",
            "Petty Quarrels        19\n",
            "Family Dispute        16\n",
            "Personal Vendetta     16\n",
            "Money Disputes        14\n",
            "Property Disputes     10\n",
            "Casteism               2\n",
            "Name: b, dtype: int64\n"
          ],
          "name": "stdout"
        }
      ]
    },
    {
      "cell_type": "code",
      "metadata": {
        "colab": {
          "base_uri": "https://localhost:8080/",
          "height": 206
        },
        "id": "KhGv0ZZ9PDKn",
        "outputId": "632b3fd5-8bb9-4bda-ded3-2da0f3c00a01"
      },
      "source": [
        "#convert the data into dataframe\n",
        "reason=pd.DataFrame({\"Reasons\":reason.index,\"No.of Cases\":reason.values})\n",
        "reason=reason.drop(index=0)\n",
        "reason.head()"
      ],
      "execution_count": null,
      "outputs": [
        {
          "output_type": "execute_result",
          "data": {
            "text/html": [
              "<div>\n",
              "<style scoped>\n",
              "    .dataframe tbody tr th:only-of-type {\n",
              "        vertical-align: middle;\n",
              "    }\n",
              "\n",
              "    .dataframe tbody tr th {\n",
              "        vertical-align: top;\n",
              "    }\n",
              "\n",
              "    .dataframe thead th {\n",
              "        text-align: right;\n",
              "    }\n",
              "</style>\n",
              "<table border=\"1\" class=\"dataframe\">\n",
              "  <thead>\n",
              "    <tr style=\"text-align: right;\">\n",
              "      <th></th>\n",
              "      <th>Reasons</th>\n",
              "      <th>No.of Cases</th>\n",
              "    </tr>\n",
              "  </thead>\n",
              "  <tbody>\n",
              "    <tr>\n",
              "      <th>1</th>\n",
              "      <td>Unknown reasons</td>\n",
              "      <td>40</td>\n",
              "    </tr>\n",
              "    <tr>\n",
              "      <th>2</th>\n",
              "      <td>Love Affairs</td>\n",
              "      <td>30</td>\n",
              "    </tr>\n",
              "    <tr>\n",
              "      <th>3</th>\n",
              "      <td>Petty Quarrels</td>\n",
              "      <td>19</td>\n",
              "    </tr>\n",
              "    <tr>\n",
              "      <th>4</th>\n",
              "      <td>Family Dispute</td>\n",
              "      <td>16</td>\n",
              "    </tr>\n",
              "    <tr>\n",
              "      <th>5</th>\n",
              "      <td>Personal Vendetta</td>\n",
              "      <td>16</td>\n",
              "    </tr>\n",
              "  </tbody>\n",
              "</table>\n",
              "</div>"
            ],
            "text/plain": [
              "             Reasons  No.of Cases\n",
              "1    Unknown reasons           40\n",
              "2       Love Affairs           30\n",
              "3     Petty Quarrels           19\n",
              "4     Family Dispute           16\n",
              "5  Personal Vendetta           16"
            ]
          },
          "metadata": {
            "tags": []
          },
          "execution_count": 96
        }
      ]
    },
    {
      "cell_type": "code",
      "metadata": {
        "colab": {
          "base_uri": "https://localhost:8080/",
          "height": 541
        },
        "id": "cpt-OCJdPZpC",
        "outputId": "ffa9e7c1-4005-4118-f69f-831ce816c214"
      },
      "source": [
        "b=reason.plot.bar(x='Reasons', y='No.of Cases',rot=30 ,figsize=(10,8))"
      ],
      "execution_count": null,
      "outputs": [
        {
          "output_type": "display_data",
          "data": {
            "image/png": "[encoded data removed]",
            "text/plain": [
              "<Figure size 720x576 with 1 Axes>"
            ]
          },
          "metadata": {
            "tags": [],
            "needs_background": "light"
          }
        }
      ]
    },
    {
      "cell_type": "markdown",
      "metadata": {
        "id": "Nsll9TpL-U--"
      },
      "source": [
        "***Conclusion: The reason for most murders is Love Affairs and the reason for least murders is Cateism***"
      ]
    },
    {
      "cell_type": "markdown",
      "metadata": {
        "id": "Jya29wb4_VuV"
      },
      "source": [
        "# Crimes against Women"
      ]
    },
    {
      "cell_type": "code",
      "metadata": {
        "id": "am1cRzurSf9X"
      },
      "source": [
        "#remove the value from the list if it is zero\n",
        "crimes_list = df[\"i\"].tolist()\n",
        "crimes_list= [i for i in crimes_list if i!= 0]"
      ],
      "execution_count": null,
      "outputs": []
    },
    {
      "cell_type": "code",
      "metadata": {
        "id": "C-fAGe7rXnO1"
      },
      "source": [
        "#split all the pairs and add them to the list\n",
        "crimes = []\n",
        "for i in crimes_list:\n",
        "  if ',' in i:\n",
        "    k=i.split(',')\n",
        "    temp =[]\n",
        "    for j in k:\n",
        "      temp.append(int(j))\n",
        "    crimes.append(temp)\n",
        "  else:\n",
        "    crimes.append(int(i))"
      ],
      "execution_count": null,
      "outputs": []
    },
    {
      "cell_type": "code",
      "metadata": {
        "id": "RKctZvLihnK4"
      },
      "source": [
        "#li contains the no.of crimes commited against women divided act-wise\n",
        "li = 11*[0]\n",
        "for i in crimes:\n",
        "  if type(i) == list:\n",
        "    for j in i:\n",
        "      li[j-1]= li[j-1]+1\n",
        "  else:\n",
        "    li[i-1]= li[i-1]+1"
      ],
      "execution_count": null,
      "outputs": []
    },
    {
      "cell_type": "code",
      "metadata": {
        "colab": {
          "base_uri": "https://localhost:8080/",
          "height": 295
        },
        "id": "C2PIjq5gj6Tv",
        "outputId": "f474b2fd-df4b-4b58-b475-36dd089b170a"
      },
      "source": [
        "x=[]\n",
        "for i in range(len(li)):\n",
        "  x.append(i+1)\n",
        "plt.bar(x,li,tick_label=x)\n",
        "plt.xlabel('Act')\n",
        "plt.ylabel('No.of cases')\n",
        "plt.title('Crimes commited againt women')\n",
        "plt.show()"
      ],
      "execution_count": null,
      "outputs": [
        {
          "output_type": "display_data",
          "data": {
            "image/png": "[encoded data removed]",
            "text/plain": [
              "<Figure size 432x288 with 1 Axes>"
            ]
          },
          "metadata": {
            "tags": [],
            "needs_background": "light"
          }
        }
      ]
    },
    {
      "cell_type": "markdown",
      "metadata": {
        "id": "hvKqSeN0BFUo"
      },
      "source": [
        "***Conclusion: Most common type of crime commited against women is \" Assault on Women with Intent to Outrage her Modesty \" (ACT 8)***\n"
      ]
    },
    {
      "cell_type": "code",
      "metadata": {
        "colab": {
          "base_uri": "https://localhost:8080/"
        },
        "id": "QmOmZ5SZlof6",
        "outputId": "94cc6841-c881-4747-bee3-bb95f522044a"
      },
      "source": [
        "#storing all the pairs to find relation between two acts in a 2 dimensional array\n",
        "arr = [[0 for i in range(0,11)] for j in range(0,11)]\n",
        "for i in crimes:\n",
        "  if type(i)==list:\n",
        "    for j in range(0,len(i)-1):\n",
        "      for k in range(j+1,len(i)):\n",
        "        y=i[j]-1\n",
        "        z=i[k]-1\n",
        "        arr[y][z]=arr[y][z]+1\n",
        "        arr[z][y]=arr[z][y]+1\n",
        "print(arr)"
      ],
      "execution_count": null,
      "outputs": [
        {
          "output_type": "stream",
          "text": [
            "[[0, 0, 0, 2, 0, 0, 0, 0, 0, 7, 0], [0, 0, 5, 0, 0, 7, 0, 0, 0, 0, 0], [0, 5, 0, 0, 0, 4, 2, 4, 0, 1, 0], [2, 0, 0, 0, 0, 0, 3, 1, 0, 2, 0], [0, 0, 0, 0, 0, 1, 0, 0, 0, 0, 0], [0, 7, 4, 0, 1, 0, 0, 1, 0, 0, 0], [0, 0, 2, 3, 0, 0, 0, 2, 2, 28, 0], [0, 0, 4, 1, 0, 1, 2, 0, 1, 9, 0], [0, 0, 0, 0, 0, 0, 2, 1, 0, 0, 0], [7, 0, 1, 2, 0, 0, 28, 9, 0, 0, 0], [0, 0, 0, 0, 0, 0, 0, 0, 0, 0, 0]]\n"
          ],
          "name": "stdout"
        }
      ]
    },
    {
      "cell_type": "code",
      "metadata": {
        "colab": {
          "base_uri": "https://localhost:8080/",
          "height": 621
        },
        "id": "wHtlPxcc7bed",
        "outputId": "fe303e83-c72b-453b-f0bf-bcca15a17d32"
      },
      "source": [
        "y=[]\n",
        "x=[]\n",
        "for i in range(0,11):\n",
        "  for j in range(i+1,11):\n",
        "    if arr[i][j] !=0 :\n",
        "      y.append(arr[i][j])\n",
        "      x.append(\"(\"+str(i+1)+\",\"+str(j+1)+\")\")\n",
        "a=[]      \n",
        "for i in range(0,len(x)):\n",
        "  a.append(i+1)    \n",
        "fig = plt.figure(figsize =(15, 10))  \n",
        "plt.bar(a,y,tick_label=x)\n",
        "plt.xlabel('Types of crimes in pairs')\n",
        "plt.ylabel('No.of cases')\n",
        "plt.title('Relation between reasons for crimes against women')\n",
        "plt.show()"
      ],
      "execution_count": null,
      "outputs": [
        {
          "output_type": "display_data",
          "data": {
            "image/png": "[encoded data removed]",
            "text/plain": [
              "<Figure size 1080x720 with 1 Axes>"
            ]
          },
          "metadata": {
            "tags": [],
            "needs_background": "light"
          }
        }
      ]
    },
    {
      "cell_type": "markdown",
      "metadata": {
        "id": "d0Sh_UBjDVWw"
      },
      "source": [
        "***Conclusion: Act 7 and Act 10 occur together the most. \n",
        "They are the most related pair in all these crimes.***"
      ]
    },
    {
      "cell_type": "markdown",
      "metadata": {
        "id": "OER9WGkVGGmz"
      },
      "source": [
        "# Victims due to murder"
      ]
    },
    {
      "cell_type": "code",
      "metadata": {
        "colab": {
          "base_uri": "https://localhost:8080/"
        },
        "id": "he-cAwnkA0uc",
        "outputId": "7c39b9d1-aa55-4733-bd44-c51d914c2535"
      },
      "source": [
        "#various reasons for murder are listed out\n",
        "reasons_list = df[\"b\"].tolist()\n",
        "reasons_list= [i for i in reasons_list if i!= 0]\n",
        "reasons_list = list(set(reasons_list))\n",
        "print(reasons_list)"
      ],
      "execution_count": null,
      "outputs": [
        {
          "output_type": "stream",
          "text": [
            "['Love Affairs', 'Casteism', 'Family Dispute', 'Personal Vendetta', 'Property Disputes', 'Unknown reasons', 'Petty Quarrels', 'Money Disputes']\n"
          ],
          "name": "stdout"
        }
      ]
    },
    {
      "cell_type": "code",
      "metadata": {
        "colab": {
          "base_uri": "https://localhost:8080/"
        },
        "id": "hEOX6r4aG0xH",
        "outputId": "eddab370-46a6-4fdc-c9b7-3a9ed2653734"
      },
      "source": [
        "#no.of child, male and female victims due to murder are noted\n",
        "Dict = {}\n",
        "for i in reasons_list:\n",
        "  Dict[i] = [0,0,0]\n",
        "for i in df.index:\n",
        "  if df[\"b\"][i]!=0:\n",
        "    Dict[df[\"b\"][i]][0]=Dict[df[\"b\"][i]][0]+df[\"c\"][i]\n",
        "    Dict[df[\"b\"][i]][1]=Dict[df[\"b\"][i]][1]+df[\"d\"][i]\n",
        "    Dict[df[\"b\"][i]][2]=Dict[df[\"b\"][i]][2]+df[\"e\"][i]\n",
        "print(Dict)   \n"
      ],
      "execution_count": null,
      "outputs": [
        {
          "output_type": "stream",
          "text": [
            "{'Love Affairs': [0.0, 14.0, 16.0], 'Casteism': [0.0, 1.0, 1.0], 'Family Dispute': [7.0, 5.0, 8.0], 'Personal Vendetta': [0.0, 14.0, 2.0], 'Property Disputes': [0.0, 15.0, 5.0], 'Unknown reasons': [7.0, 29.0, 15.0], 'Petty Quarrels': [1.0, 13.0, 5.0], 'Money Disputes': [4.0, 12.0, 0.0]}\n"
          ],
          "name": "stdout"
        }
      ]
    },
    {
      "cell_type": "code",
      "metadata": {
        "colab": {
          "base_uri": "https://localhost:8080/",
          "height": 621
        },
        "id": "M92V9gWHR5BM",
        "outputId": "e2daae73-930f-441b-e402-969edce1975c"
      },
      "source": [
        "#Plotting the reason of murder and type of victims\n",
        "N = len(Dict.keys())\n",
        "i= np.arange(N) \n",
        "width = 0.25\n",
        "child=[]\n",
        "men=[]\n",
        "women=[]\n",
        "for key, value in Dict.items():\n",
        "  child.append(value[0])\n",
        "  men.append(value[1])\n",
        "  women.append(value[2])\n",
        "fig = plt.figure(figsize =(15, 10))    \n",
        "bar1 = plt.bar(i,child, width, color='g')\n",
        "bar2 = plt.bar(i+width,men, width, color='b')\n",
        "bar3 = plt.bar(i+width*2,women, width, color='r')\n",
        "plt.xticks(i+width,list(Dict.keys()))\n",
        "plt.legend( (bar1, bar2, bar3), ('Child', 'Men', 'Women') )\n",
        "plt.xlabel(\"Reason for Murder\")\n",
        "plt.ylabel(\"No.of Victims\")\n",
        "plt.title(\"No.of child/men/women victims due to various reasons of murder\")\n",
        "plt.show()\n"
      ],
      "execution_count": null,
      "outputs": [
        {
          "output_type": "display_data",
          "data": {
            "image/png": "[encoded data removed]",
            "text/plain": [
              "<Figure size 1080x720 with 1 Axes>"
            ]
          },
          "metadata": {
            "tags": [],
            "needs_background": "light"
          }
        }
      ]
    },
    {
      "cell_type": "markdown",
      "metadata": {
        "id": "kQ4EQIPWISu5"
      },
      "source": [
        "***Conclusion: Highest no.of victims are women due to a particular reason for murder(Love Affairs). As a whole the highest no.of victims due to murder are men.***\n"
      ]
    },
    {
      "cell_type": "markdown",
      "metadata": {
        "id": "_Izt2cgrHe-d"
      },
      "source": [
        "# Kidnapping report"
      ]
    },
    {
      "cell_type": "code",
      "metadata": {
        "id": "O96rFPTXVwQS"
      },
      "source": [
        "#find the no.of victims in kidnapping category-wise(child/men/women)\n",
        "child = df['f'].sum()\n",
        "men = df['g'].sum()\n",
        "women = df['h'].sum()"
      ],
      "execution_count": null,
      "outputs": []
    },
    {
      "cell_type": "code",
      "metadata": {
        "colab": {
          "base_uri": "https://localhost:8080/",
          "height": 295
        },
        "id": "Bb2nopLnXcAI",
        "outputId": "58c99bd9-c16d-4e23-9009-15c34acd5801"
      },
      "source": [
        "plt.bar([1,2,3],[child,men,women],tick_label=[\"child\",\"men\",\"women\"],width=0.5)\n",
        "plt.xlabel(\"Type of victim\")\n",
        "plt.ylabel(\"No.of Victims\")\n",
        "plt.title(\"No.of child/men/women victims in kidnapping\")\n",
        "plt.show()"
      ],
      "execution_count": null,
      "outputs": [
        {
          "output_type": "display_data",
          "data": {
            "image/png": "[encoded data removed]",
            "text/plain": [
              "<Figure size 432x288 with 1 Axes>"
            ]
          },
          "metadata": {
            "tags": [],
            "needs_background": "light"
          }
        }
      ]
    },
    {
      "cell_type": "markdown",
      "metadata": {
        "id": "pNDXOZcjJ9nI"
      },
      "source": [
        "***Conclusion: Children are the highest no.of victims in kidnapping***"
      ]
    }
  ]
}